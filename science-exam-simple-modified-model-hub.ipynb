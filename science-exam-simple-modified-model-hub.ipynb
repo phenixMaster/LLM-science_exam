{
 "cells": [
  {
   "cell_type": "code",
   "execution_count": 1,
   "id": "cb267045",
   "metadata": {
    "_cell_guid": "b1076dfc-b9ad-4769-8c92-a6c4dae69d19",
    "_uuid": "8f2839f25d086af736a60e9eeb907d3b93b6e0e5",
    "execution": {
     "iopub.execute_input": "2023-08-08T10:14:31.331255Z",
     "iopub.status.busy": "2023-08-08T10:14:31.330824Z",
     "iopub.status.idle": "2023-08-08T10:14:44.118238Z",
     "shell.execute_reply": "2023-08-08T10:14:44.117311Z"
    },
    "papermill": {
     "duration": 12.796581,
     "end_time": "2023-08-08T10:14:44.120607",
     "exception": false,
     "start_time": "2023-08-08T10:14:31.324026",
     "status": "completed"
    },
    "tags": []
   },
   "outputs": [],
   "source": [
    "import pandas as pd\n",
    "from string import Template\n",
    "from pathlib import Path\n",
    "\n",
    "import warnings\n",
    "warnings.simplefilter(\"ignore\")\n",
    "\n",
    "import torch\n",
    "from transformers import T5Tokenizer, T5ForConditionalGeneration\n",
    "\n",
    "data_path = Path('/kaggle/input/kaggle-llm-science-exam')"
   ]
  },
  {
   "cell_type": "markdown",
   "id": "740ff9eb",
   "metadata": {
    "papermill": {
     "duration": 0.004438,
     "end_time": "2023-08-08T10:14:44.130193",
     "exception": false,
     "start_time": "2023-08-08T10:14:44.125755",
     "status": "completed"
    },
    "tags": []
   },
   "source": [
    "## We'll use `FLAN-T5-base` from Kaggle's Model Hub\n",
    "\n",
    "You'll probably want to turn on the GPU option for the notebook! (Remember though, since this is a Code competition, you'll need to set Internet to Off for Notebook submissions to the competition.)"
   ]
  },
  {
   "cell_type": "code",
   "execution_count": 2,
   "id": "d6d45e73",
   "metadata": {
    "_kg_hide-output": true,
    "execution": {
     "iopub.execute_input": "2023-08-08T10:14:44.140674Z",
     "iopub.status.busy": "2023-08-08T10:14:44.140402Z",
     "iopub.status.idle": "2023-08-08T10:15:04.547870Z",
     "shell.execute_reply": "2023-08-08T10:15:04.546847Z"
    },
    "papermill": {
     "duration": 20.41551,
     "end_time": "2023-08-08T10:15:04.550308",
     "exception": false,
     "start_time": "2023-08-08T10:14:44.134798",
     "status": "completed"
    },
    "tags": []
   },
   "outputs": [],
   "source": [
    "llm = '/kaggle/input/flan-t5/pytorch/base/2'\n",
    "\n",
    "\n",
    "device = \"cuda:0\" if torch.cuda.is_available() else \"cpu\"\n",
    "model = T5ForConditionalGeneration.from_pretrained(llm).to(device)\n",
    "tokenizer = T5Tokenizer.from_pretrained(llm)"
   ]
  },
  {
   "cell_type": "markdown",
   "id": "3b9a4dd8",
   "metadata": {
    "papermill": {
     "duration": 0.004456,
     "end_time": "2023-08-08T10:15:04.559721",
     "exception": false,
     "start_time": "2023-08-08T10:15:04.555265",
     "status": "completed"
    },
    "tags": []
   },
   "source": [
    "The data is formatted as follows. For each `prompt` (e.g., the question) there are five possible answers labeled `[A-E]`. Only one of the answers is correct."
   ]
  },
  {
   "cell_type": "code",
   "execution_count": 3,
   "id": "f2a79080",
   "metadata": {
    "execution": {
     "iopub.execute_input": "2023-08-08T10:15:04.572184Z",
     "iopub.status.busy": "2023-08-08T10:15:04.570680Z",
     "iopub.status.idle": "2023-08-08T10:15:04.617016Z",
     "shell.execute_reply": "2023-08-08T10:15:04.616165Z"
    },
    "papermill": {
     "duration": 0.054844,
     "end_time": "2023-08-08T10:15:04.619572",
     "exception": false,
     "start_time": "2023-08-08T10:15:04.564728",
     "status": "completed"
    },
    "tags": []
   },
   "outputs": [
    {
     "data": {
      "text/html": [
       "<div>\n",
       "<style scoped>\n",
       "    .dataframe tbody tr th:only-of-type {\n",
       "        vertical-align: middle;\n",
       "    }\n",
       "\n",
       "    .dataframe tbody tr th {\n",
       "        vertical-align: top;\n",
       "    }\n",
       "\n",
       "    .dataframe thead th {\n",
       "        text-align: right;\n",
       "    }\n",
       "</style>\n",
       "<table border=\"1\" class=\"dataframe\">\n",
       "  <thead>\n",
       "    <tr style=\"text-align: right;\">\n",
       "      <th></th>\n",
       "      <th>prompt</th>\n",
       "      <th>A</th>\n",
       "      <th>B</th>\n",
       "      <th>C</th>\n",
       "      <th>D</th>\n",
       "      <th>E</th>\n",
       "    </tr>\n",
       "    <tr>\n",
       "      <th>id</th>\n",
       "      <th></th>\n",
       "      <th></th>\n",
       "      <th></th>\n",
       "      <th></th>\n",
       "      <th></th>\n",
       "      <th></th>\n",
       "    </tr>\n",
       "  </thead>\n",
       "  <tbody>\n",
       "    <tr>\n",
       "      <th>0</th>\n",
       "      <td>Which of the following statements accurately d...</td>\n",
       "      <td>MOND is a theory that reduces the observed mis...</td>\n",
       "      <td>MOND is a theory that increases the discrepanc...</td>\n",
       "      <td>MOND is a theory that explains the missing bar...</td>\n",
       "      <td>MOND is a theory that reduces the discrepancy ...</td>\n",
       "      <td>MOND is a theory that eliminates the observed ...</td>\n",
       "    </tr>\n",
       "    <tr>\n",
       "      <th>1</th>\n",
       "      <td>Which of the following is an accurate definiti...</td>\n",
       "      <td>Dynamic scaling refers to the evolution of sel...</td>\n",
       "      <td>Dynamic scaling refers to the non-evolution of...</td>\n",
       "      <td>Dynamic scaling refers to the evolution of sel...</td>\n",
       "      <td>Dynamic scaling refers to the non-evolution of...</td>\n",
       "      <td>Dynamic scaling refers to the evolution of sel...</td>\n",
       "    </tr>\n",
       "    <tr>\n",
       "      <th>2</th>\n",
       "      <td>Which of the following statements accurately d...</td>\n",
       "      <td>The triskeles symbol was reconstructed as a fe...</td>\n",
       "      <td>The triskeles symbol is a representation of th...</td>\n",
       "      <td>The triskeles symbol is a representation of a ...</td>\n",
       "      <td>The triskeles symbol represents three interloc...</td>\n",
       "      <td>The triskeles symbol is a representation of th...</td>\n",
       "    </tr>\n",
       "    <tr>\n",
       "      <th>3</th>\n",
       "      <td>What is the significance of regularization in ...</td>\n",
       "      <td>Regularizing the mass-energy of an electron wi...</td>\n",
       "      <td>Regularizing the mass-energy of an electron wi...</td>\n",
       "      <td>Regularizing the mass-energy of an electron wi...</td>\n",
       "      <td>Regularizing the mass-energy of an electron wi...</td>\n",
       "      <td>Regularizing the mass-energy of an electron wi...</td>\n",
       "    </tr>\n",
       "    <tr>\n",
       "      <th>4</th>\n",
       "      <td>Which of the following statements accurately d...</td>\n",
       "      <td>The angular spacing of features in the diffrac...</td>\n",
       "      <td>The angular spacing of features in the diffrac...</td>\n",
       "      <td>The angular spacing of features in the diffrac...</td>\n",
       "      <td>The angular spacing of features in the diffrac...</td>\n",
       "      <td>The angular spacing of features in the diffrac...</td>\n",
       "    </tr>\n",
       "  </tbody>\n",
       "</table>\n",
       "</div>"
      ],
      "text/plain": [
       "                                               prompt  \\\n",
       "id                                                      \n",
       "0   Which of the following statements accurately d...   \n",
       "1   Which of the following is an accurate definiti...   \n",
       "2   Which of the following statements accurately d...   \n",
       "3   What is the significance of regularization in ...   \n",
       "4   Which of the following statements accurately d...   \n",
       "\n",
       "                                                    A  \\\n",
       "id                                                      \n",
       "0   MOND is a theory that reduces the observed mis...   \n",
       "1   Dynamic scaling refers to the evolution of sel...   \n",
       "2   The triskeles symbol was reconstructed as a fe...   \n",
       "3   Regularizing the mass-energy of an electron wi...   \n",
       "4   The angular spacing of features in the diffrac...   \n",
       "\n",
       "                                                    B  \\\n",
       "id                                                      \n",
       "0   MOND is a theory that increases the discrepanc...   \n",
       "1   Dynamic scaling refers to the non-evolution of...   \n",
       "2   The triskeles symbol is a representation of th...   \n",
       "3   Regularizing the mass-energy of an electron wi...   \n",
       "4   The angular spacing of features in the diffrac...   \n",
       "\n",
       "                                                    C  \\\n",
       "id                                                      \n",
       "0   MOND is a theory that explains the missing bar...   \n",
       "1   Dynamic scaling refers to the evolution of sel...   \n",
       "2   The triskeles symbol is a representation of a ...   \n",
       "3   Regularizing the mass-energy of an electron wi...   \n",
       "4   The angular spacing of features in the diffrac...   \n",
       "\n",
       "                                                    D  \\\n",
       "id                                                      \n",
       "0   MOND is a theory that reduces the discrepancy ...   \n",
       "1   Dynamic scaling refers to the non-evolution of...   \n",
       "2   The triskeles symbol represents three interloc...   \n",
       "3   Regularizing the mass-energy of an electron wi...   \n",
       "4   The angular spacing of features in the diffrac...   \n",
       "\n",
       "                                                    E  \n",
       "id                                                     \n",
       "0   MOND is a theory that eliminates the observed ...  \n",
       "1   Dynamic scaling refers to the evolution of sel...  \n",
       "2   The triskeles symbol is a representation of th...  \n",
       "3   Regularizing the mass-energy of an electron wi...  \n",
       "4   The angular spacing of features in the diffrac...  "
      ]
     },
     "execution_count": 3,
     "metadata": {},
     "output_type": "execute_result"
    }
   ],
   "source": [
    "test = pd.read_csv(data_path / 'test.csv', index_col='id')\n",
    "test.head()"
   ]
  },
  {
   "cell_type": "markdown",
   "id": "8147f33e",
   "metadata": {
    "papermill": {
     "duration": 0.005038,
     "end_time": "2023-08-08T10:15:04.629879",
     "exception": false,
     "start_time": "2023-08-08T10:15:04.624841",
     "status": "completed"
    },
    "tags": []
   },
   "source": [
    "## Creating a preamble template\n",
    "\n",
    "How you format your prompt to input to the LLM can make a big difference in the output you get. Here, we try to instruct the LLM to rank all of the options from most likely to least likely."
   ]
  },
  {
   "cell_type": "code",
   "execution_count": 4,
   "id": "d116c3b8",
   "metadata": {
    "execution": {
     "iopub.execute_input": "2023-08-08T10:15:04.641468Z",
     "iopub.status.busy": "2023-08-08T10:15:04.640832Z",
     "iopub.status.idle": "2023-08-08T10:15:04.646228Z",
     "shell.execute_reply": "2023-08-08T10:15:04.645249Z"
    },
    "papermill": {
     "duration": 0.013588,
     "end_time": "2023-08-08T10:15:04.648385",
     "exception": false,
     "start_time": "2023-08-08T10:15:04.634797",
     "status": "completed"
    },
    "tags": []
   },
   "outputs": [],
   "source": [
    "preamble = \\\n",
    "    'Answer the following question by outputting the letters A, B, C, D, and E '\\\n",
    "    'in order of the most likely to be correct to the to least likely to be correct.'\n",
    "\n",
    "template = Template('$preamble\\n\\n$prompt\\n\\nA) $a\\nB) $b\\nC) $c\\nD) $d\\nE) $e')"
   ]
  },
  {
   "cell_type": "code",
   "execution_count": 5,
   "id": "edc14cf8",
   "metadata": {
    "execution": {
     "iopub.execute_input": "2023-08-08T10:15:04.659355Z",
     "iopub.status.busy": "2023-08-08T10:15:04.659049Z",
     "iopub.status.idle": "2023-08-08T10:15:04.666630Z",
     "shell.execute_reply": "2023-08-08T10:15:04.665608Z"
    },
    "papermill": {
     "duration": 0.015415,
     "end_time": "2023-08-08T10:15:04.668673",
     "exception": false,
     "start_time": "2023-08-08T10:15:04.653258",
     "status": "completed"
    },
    "tags": []
   },
   "outputs": [],
   "source": [
    "def format_input(df, idx):\n",
    "    \n",
    "    prompt = df.loc[idx, 'prompt']\n",
    "    a = df.loc[idx, 'A']\n",
    "    b = df.loc[idx, 'B']\n",
    "    c = df.loc[idx, 'C']\n",
    "    d = df.loc[idx, 'D']\n",
    "    e = df.loc[idx, 'E']\n",
    "\n",
    "    input_text = template.substitute(\n",
    "        preamble=preamble, prompt=prompt, a=a, b=b, c=c, d=d, e=e)\n",
    "    \n",
    "    return input_text"
   ]
  },
  {
   "cell_type": "markdown",
   "id": "667a4af3",
   "metadata": {
    "papermill": {
     "duration": 0.004682,
     "end_time": "2023-08-08T10:15:04.678407",
     "exception": false,
     "start_time": "2023-08-08T10:15:04.673725",
     "status": "completed"
    },
    "tags": []
   },
   "source": [
    "This is an example of a formatted question that would be used as input to the LLM."
   ]
  },
  {
   "cell_type": "code",
   "execution_count": 6,
   "id": "7a87fa00",
   "metadata": {
    "execution": {
     "iopub.execute_input": "2023-08-08T10:15:04.689941Z",
     "iopub.status.busy": "2023-08-08T10:15:04.689186Z",
     "iopub.status.idle": "2023-08-08T10:15:04.695321Z",
     "shell.execute_reply": "2023-08-08T10:15:04.694321Z"
    },
    "papermill": {
     "duration": 0.014102,
     "end_time": "2023-08-08T10:15:04.697325",
     "exception": false,
     "start_time": "2023-08-08T10:15:04.683223",
     "status": "completed"
    },
    "tags": []
   },
   "outputs": [
    {
     "name": "stdout",
     "output_type": "stream",
     "text": [
      "Answer the following question by outputting the letters A, B, C, D, and E in order of the most likely to be correct to the to least likely to be correct.\n",
      "\n",
      "Which of the following statements accurately describes the impact of Modified Newtonian Dynamics (MOND) on the observed \"missing baryonic mass\" discrepancy in galaxy clusters?\n",
      "\n",
      "A) MOND is a theory that reduces the observed missing baryonic mass in galaxy clusters by postulating the existence of a new form of matter called \"fuzzy dark matter.\"\n",
      "B) MOND is a theory that increases the discrepancy between the observed missing baryonic mass in galaxy clusters and the measured velocity dispersions from a factor of around 10 to a factor of about 20.\n",
      "C) MOND is a theory that explains the missing baryonic mass in galaxy clusters that was previously considered dark matter by demonstrating that the mass is in the form of neutrinos and axions.\n",
      "D) MOND is a theory that reduces the discrepancy between the observed missing baryonic mass in galaxy clusters and the measured velocity dispersions from a factor of around 10 to a factor of about 2.\n",
      "E) MOND is a theory that eliminates the observed missing baryonic mass in galaxy clusters by imposing a new mathematical formulation of gravity that does not require the existence of dark matter.\n"
     ]
    }
   ],
   "source": [
    "print(format_input(test, 0))"
   ]
  },
  {
   "cell_type": "code",
   "execution_count": 7,
   "id": "f22cf23e",
   "metadata": {
    "execution": {
     "iopub.execute_input": "2023-08-08T10:15:04.710069Z",
     "iopub.status.busy": "2023-08-08T10:15:04.708458Z",
     "iopub.status.idle": "2023-08-08T10:15:07.640955Z",
     "shell.execute_reply": "2023-08-08T10:15:07.639383Z"
    },
    "papermill": {
     "duration": 2.941012,
     "end_time": "2023-08-08T10:15:07.643324",
     "exception": false,
     "start_time": "2023-08-08T10:15:04.702312",
     "status": "completed"
    },
    "tags": []
   },
   "outputs": [
    {
     "name": "stdout",
     "output_type": "stream",
     "text": [
      "['A']\n"
     ]
    }
   ],
   "source": [
    "inputs = tokenizer(format_input(test, 0), return_tensors=\"pt\").to(device)\n",
    "outputs = model.generate(**inputs)\n",
    "answer = tokenizer.batch_decode(outputs, skip_special_tokens=True,)\n",
    "\n",
    "print(answer)"
   ]
  },
  {
   "cell_type": "markdown",
   "id": "b0476842",
   "metadata": {
    "papermill": {
     "duration": 0.004889,
     "end_time": "2023-08-08T10:15:07.653710",
     "exception": false,
     "start_time": "2023-08-08T10:15:07.648821",
     "status": "completed"
    },
    "tags": []
   },
   "source": [
    "## Post-processing\n",
    "\n",
    "You can see from the above that the LLM did not properly follow instructions. You'll need to figure out how to ensure your model provides at least the top three predictions, and have checks and post-processing in place for when they don't (such as in our example!)\n",
    "\n",
    "This notebook provides a naive and **very** fragile example of how to do this. You'll want to make something more rubust!"
   ]
  },
  {
   "cell_type": "code",
   "execution_count": 8,
   "id": "6879f2aa",
   "metadata": {
    "execution": {
     "iopub.execute_input": "2023-08-08T10:15:07.664995Z",
     "iopub.status.busy": "2023-08-08T10:15:07.664711Z",
     "iopub.status.idle": "2023-08-08T10:15:07.670863Z",
     "shell.execute_reply": "2023-08-08T10:15:07.669968Z"
    },
    "papermill": {
     "duration": 0.014074,
     "end_time": "2023-08-08T10:15:07.672858",
     "exception": false,
     "start_time": "2023-08-08T10:15:07.658784",
     "status": "completed"
    },
    "tags": []
   },
   "outputs": [],
   "source": [
    "def post_process(predictions):\n",
    "    valid = set(['A', 'B', 'C', 'D', 'E'])\n",
    "    # If there are no valid choices, return something and hope for partial credit\n",
    "    if set(predictions).isdisjoint(valid):\n",
    "        final_pred = 'A B C D E'\n",
    "    else:\n",
    "        final_pred = []\n",
    "        for prediction in predictions:\n",
    "            if prediction in valid:\n",
    "                final_pred += prediction\n",
    "        # add remaining letters\n",
    "        to_add = valid - set(final_pred)\n",
    "        final_pred.extend(list(to_add))\n",
    "        # put in space-delimited format\n",
    "        final_pred = ' '.join(final_pred)\n",
    "        \n",
    "    return final_pred"
   ]
  },
  {
   "cell_type": "markdown",
   "id": "f56b3dfe",
   "metadata": {
    "papermill": {
     "duration": 0.004786,
     "end_time": "2023-08-08T10:15:07.682595",
     "exception": false,
     "start_time": "2023-08-08T10:15:07.677809",
     "status": "completed"
    },
    "tags": []
   },
   "source": [
    "## Making a submission\n",
    "\n",
    "We can now make a simple script to make a submission to the competition."
   ]
  },
  {
   "cell_type": "code",
   "execution_count": 9,
   "id": "e6c2288a",
   "metadata": {
    "execution": {
     "iopub.execute_input": "2023-08-08T10:15:07.694072Z",
     "iopub.status.busy": "2023-08-08T10:15:07.693805Z",
     "iopub.status.idle": "2023-08-08T10:15:18.089653Z",
     "shell.execute_reply": "2023-08-08T10:15:18.088642Z"
    },
    "papermill": {
     "duration": 10.404291,
     "end_time": "2023-08-08T10:15:18.092176",
     "exception": false,
     "start_time": "2023-08-08T10:15:07.687885",
     "status": "completed"
    },
    "tags": []
   },
   "outputs": [
    {
     "name": "stderr",
     "output_type": "stream",
     "text": [
      "Token indices sequence length is longer than the specified maximum sequence length for this model (596 > 512). Running this sequence through the model will result in indexing errors\n"
     ]
    }
   ],
   "source": [
    "submission = pd.read_csv(\n",
    "    data_path / 'sample_submission.csv', index_col='id')\n",
    "\n",
    "for idx in test.index:\n",
    "    inputs = tokenizer(format_input(test, idx), return_tensors=\"pt\").to(device)\n",
    "    outputs = model.generate(**inputs)\n",
    "    answer = tokenizer.batch_decode(outputs, skip_special_tokens=True)\n",
    "    submission.loc[idx, 'prediction'] = post_process(answer)"
   ]
  },
  {
   "cell_type": "markdown",
   "id": "414e3194",
   "metadata": {
    "papermill": {
     "duration": 0.005127,
     "end_time": "2023-08-08T10:15:18.102701",
     "exception": false,
     "start_time": "2023-08-08T10:15:18.097574",
     "status": "completed"
    },
    "tags": []
   },
   "source": [
    "You can include all five possible answers, but only the first three will be counted!"
   ]
  },
  {
   "cell_type": "code",
   "execution_count": 10,
   "id": "a2619cd6",
   "metadata": {
    "execution": {
     "iopub.execute_input": "2023-08-08T10:15:18.114478Z",
     "iopub.status.busy": "2023-08-08T10:15:18.114176Z",
     "iopub.status.idle": "2023-08-08T10:15:18.122662Z",
     "shell.execute_reply": "2023-08-08T10:15:18.121582Z"
    },
    "papermill": {
     "duration": 0.016796,
     "end_time": "2023-08-08T10:15:18.124582",
     "exception": false,
     "start_time": "2023-08-08T10:15:18.107786",
     "status": "completed"
    },
    "tags": []
   },
   "outputs": [
    {
     "data": {
      "text/html": [
       "<div>\n",
       "<style scoped>\n",
       "    .dataframe tbody tr th:only-of-type {\n",
       "        vertical-align: middle;\n",
       "    }\n",
       "\n",
       "    .dataframe tbody tr th {\n",
       "        vertical-align: top;\n",
       "    }\n",
       "\n",
       "    .dataframe thead th {\n",
       "        text-align: right;\n",
       "    }\n",
       "</style>\n",
       "<table border=\"1\" class=\"dataframe\">\n",
       "  <thead>\n",
       "    <tr style=\"text-align: right;\">\n",
       "      <th></th>\n",
       "      <th>prediction</th>\n",
       "    </tr>\n",
       "    <tr>\n",
       "      <th>id</th>\n",
       "      <th></th>\n",
       "    </tr>\n",
       "  </thead>\n",
       "  <tbody>\n",
       "    <tr>\n",
       "      <th>0</th>\n",
       "      <td>A D B C E</td>\n",
       "    </tr>\n",
       "    <tr>\n",
       "      <th>1</th>\n",
       "      <td>A D B C E</td>\n",
       "    </tr>\n",
       "    <tr>\n",
       "      <th>2</th>\n",
       "      <td>C D B A E</td>\n",
       "    </tr>\n",
       "    <tr>\n",
       "      <th>3</th>\n",
       "      <td>A D B C E</td>\n",
       "    </tr>\n",
       "    <tr>\n",
       "      <th>4</th>\n",
       "      <td>A D B C E</td>\n",
       "    </tr>\n",
       "  </tbody>\n",
       "</table>\n",
       "</div>"
      ],
      "text/plain": [
       "   prediction\n",
       "id           \n",
       "0   A D B C E\n",
       "1   A D B C E\n",
       "2   C D B A E\n",
       "3   A D B C E\n",
       "4   A D B C E"
      ]
     },
     "execution_count": 10,
     "metadata": {},
     "output_type": "execute_result"
    }
   ],
   "source": [
    "submission.head()"
   ]
  },
  {
   "cell_type": "code",
   "execution_count": 11,
   "id": "783813b6",
   "metadata": {
    "execution": {
     "iopub.execute_input": "2023-08-08T10:15:18.136808Z",
     "iopub.status.busy": "2023-08-08T10:15:18.136210Z",
     "iopub.status.idle": "2023-08-08T10:15:18.143630Z",
     "shell.execute_reply": "2023-08-08T10:15:18.142775Z"
    },
    "papermill": {
     "duration": 0.015425,
     "end_time": "2023-08-08T10:15:18.145585",
     "exception": false,
     "start_time": "2023-08-08T10:15:18.130160",
     "status": "completed"
    },
    "tags": []
   },
   "outputs": [],
   "source": [
    "submission.to_csv('submission.csv')"
   ]
  }
 ],
 "metadata": {
  "kernelspec": {
   "display_name": "Python 3",
   "language": "python",
   "name": "python3"
  },
  "language_info": {
   "codemirror_mode": {
    "name": "ipython",
    "version": 3
   },
   "file_extension": ".py",
   "mimetype": "text/x-python",
   "name": "python",
   "nbconvert_exporter": "python",
   "pygments_lexer": "ipython3",
   "version": "3.10.10"
  },
  "papermill": {
   "default_parameters": {},
   "duration": 61.132459,
   "end_time": "2023-08-08T10:15:21.469692",
   "environment_variables": {},
   "exception": null,
   "input_path": "__notebook__.ipynb",
   "output_path": "__notebook__.ipynb",
   "parameters": {},
   "start_time": "2023-08-08T10:14:20.337233",
   "version": "2.4.0"
  }
 },
 "nbformat": 4,
 "nbformat_minor": 5
}
